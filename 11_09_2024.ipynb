{
  "nbformat": 4,
  "nbformat_minor": 0,
  "metadata": {
    "colab": {
      "provenance": [],
      "authorship_tag": "ABX9TyO+fvLz4YV7ZJM1oHoKychN",
      "include_colab_link": true
    },
    "kernelspec": {
      "name": "python3",
      "display_name": "Python 3"
    },
    "language_info": {
      "name": "python"
    }
  },
  "cells": [
    {
      "cell_type": "markdown",
      "metadata": {
        "id": "view-in-github",
        "colab_type": "text"
      },
      "source": [
        "<a href=\"https://colab.research.google.com/github/SIMONAT00/Engenharia.civil/blob/main/11set24.ipynb\" target=\"_parent\"><img src=\"https://colab.research.google.com/assets/colab-badge.svg\" alt=\"Open In Colab\"/></a>"
      ]
    },
    {
      "cell_type": "markdown",
      "source": [
        "#*Aula 11/09/2024*\n"
      ],
      "metadata": {
        "id": "scZZesmak60K"
      }
    },
    {
      "cell_type": "markdown",
      "source": [
        "#Comando saber o que é ímpar e par"
      ],
      "metadata": {
        "id": "jf8QEmAXnGRw"
      }
    },
    {
      "cell_type": "code",
      "source": [
        "numero = int(input(\"Digite um numero inteiro: \"))\n",
        "if numero % 2 == 0:\n",
        " print(f\"O número {numero} é par. \")\n",
        "else:\n",
        " print(f\"O número {numero} é impar. \")"
      ],
      "metadata": {
        "colab": {
          "base_uri": "https://localhost:8080/"
        },
        "id": "t2MPRkfUk517",
        "outputId": "18ac0f41-aa84-4492-cfef-6a95746a53ad"
      },
      "execution_count": null,
      "outputs": [
        {
          "output_type": "stream",
          "name": "stdout",
          "text": [
            "Digite um numero inteiro: 2\n",
            "O número 2 é par. \n"
          ]
        }
      ]
    },
    {
      "cell_type": "markdown",
      "source": [
        "#...\n"
      ],
      "metadata": {
        "id": "IVBMffYipVP9"
      }
    },
    {
      "cell_type": "code",
      "source": [
        "import math\n",
        "numero = float(input(\"Digite um número: \"))\n",
        "if numero >= 0:\n",
        "  Raiz_quadrada = math.sqrt(numero)\n",
        "  print(f\"A raiz quadrada de {numero} é: {Raiz_quadrada}\")\n",
        "else:\n",
        "  print(\"Não existe raiz real para esse número\" )"
      ],
      "metadata": {
        "colab": {
          "base_uri": "https://localhost:8080/"
        },
        "id": "ldrmOplrpZM0",
        "outputId": "2fad4c30-8743-4d08-8bc3-d3fabf5e6418"
      },
      "execution_count": null,
      "outputs": [
        {
          "output_type": "stream",
          "name": "stdout",
          "text": [
            "Digite um número: 9\n",
            "A raiz quadrada de 9.0 é: 3.0\n"
          ]
        }
      ]
    }
  ]
}
