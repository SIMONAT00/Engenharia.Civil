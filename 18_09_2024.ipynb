{
  "nbformat": 4,
  "nbformat_minor": 0,
  "metadata": {
    "colab": {
      "provenance": [],
      "authorship_tag": "ABX9TyMYZq6dPf2/maS6FzDIxAw4",
      "include_colab_link": true
    },
    "kernelspec": {
      "name": "python3",
      "display_name": "Python 3"
    },
    "language_info": {
      "name": "python"
    }
  },
  "cells": [
    {
      "cell_type": "markdown",
      "metadata": {
        "id": "view-in-github",
        "colab_type": "text"
      },
      "source": [
        "<a href=\"https://colab.research.google.com/github/SIMONAT00/Engenharia.civil/blob/main/18_09_2024.ipynb\" target=\"_parent\"><img src=\"https://colab.research.google.com/assets/colab-badge.svg\" alt=\"Open In Colab\"/></a>"
      ]
    },
    {
      "cell_type": "markdown",
      "source": [
        "#*aula 18/09/2024*\n",
        "EXERCICIO 1- Número multiplo de 3"
      ],
      "metadata": {
        "id": "dnyjdmfjk-ZM"
      }
    },
    {
      "cell_type": "code",
      "execution_count": 44,
      "metadata": {
        "colab": {
          "base_uri": "https://localhost:8080/"
        },
        "id": "NCoEXJFjj4rK",
        "outputId": "e797a340-c8a2-4722-cc4a-178e6f45d72d"
      },
      "outputs": [
        {
          "output_type": "stream",
          "name": "stdout",
          "text": [
            "Digite um valor INTEIRO: 5\n",
            "O número 5 não é multiplo de 3\n"
          ]
        }
      ],
      "source": [
        "numero = int(input(\"Digite um valor INTEIRO: \"))\n",
        "if numero % 3 == 0:\n",
        "  N1 = float(input(\"Digite um valor de N1: \"))\n",
        "else: print(f\"O número {numero} não é multiplo de 3\")\n",
        "\n"
      ]
    },
    {
      "cell_type": "markdown",
      "source": [
        "EXERCICIO 2- Média Ponderada"
      ],
      "metadata": {
        "id": "0h08Nxvepv9G"
      }
    },
    {
      "cell_type": "code",
      "source": [
        "na = float(input(\"Digite um valor de NOTA A: \"))\n",
        "nb = float(input(\"Digite um valor de NOTA B: \"))\n",
        "media = (2*na + 3*nb)/5\n",
        "if  media >= 5:\n",
        "  print(\"foi aprovado\")\n",
        "else:\n",
        "  print(\"foi reprovado\")\n",
        "print (media)\n",
        "\n"
      ],
      "metadata": {
        "colab": {
          "base_uri": "https://localhost:8080/"
        },
        "id": "iccyCfsbp8hw",
        "outputId": "2d3c2fc0-8246-4554-e9b1-ba09f69b227f"
      },
      "execution_count": 64,
      "outputs": [
        {
          "output_type": "stream",
          "name": "stdout",
          "text": [
            "Digite um valor de NOTA A: 10\n",
            "Digite um valor de NOTA B: 10\n",
            "foi aprovado\n",
            "10.0\n"
          ]
        }
      ]
    },
    {
      "cell_type": "markdown",
      "source": [
        "EXERCICIO 3-"
      ],
      "metadata": {
        "id": "yHst7lxVxckN"
      }
    },
    {
      "cell_type": "code",
      "source": [
        "a = float(input(\"Digite o valor A: \"))\n",
        "b = float(input(\"Digite o valor B: \"))\n",
        "c = float(input(\"Digite o valor C: \"))\n",
        "if a<=b and a<=c:\n",
        "  menor = a\n",
        "elif b<=a and b<=c:\n",
        "    menor = b\n",
        "else:\n",
        "    menor=c\n",
        "print(menor)\n",
        "\n",
        ""
      ],
      "metadata": {
        "colab": {
          "base_uri": "https://localhost:8080/"
        },
        "id": "5GmWl4MDxmo-",
        "outputId": "757b4b9a-0b2f-49fb-dfaa-2cc06c2230b4"
      },
      "execution_count": 69,
      "outputs": [
        {
          "output_type": "stream",
          "name": "stdout",
          "text": [
            "Digite o valor A: 1\n",
            "Digite o valor B: 1\n",
            "Digite o valor C: 3\n",
            "1.0\n"
          ]
        }
      ]
    }
  ]
}